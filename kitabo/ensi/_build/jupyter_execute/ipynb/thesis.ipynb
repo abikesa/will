{
 "cells": [
  {
   "cell_type": "markdown",
   "metadata": {},
   "source": [
    "(thesis)=\n",
    "# K08 & Thesis\n",
    "\n",
    "```{margin}\n",
    "\n",
    "   ```{note}\n",
    "\n",
    "- Study design & inclusion criteria is tantamount to blinders      \n",
    "- Dynamic, iterative, webApps that personalize estimates have more integrity      \n",
    "- They [embrace](https://abikesa.github.io/bach/) more remote overtones of the harmonic series\n",
    "\n",
    "```\n",
    "\n",
    "          1. f(t)\n",
    "                \\\n",
    "     2. S(t) -> 4. y:h'(t)=0;t(X'X)X'Y -> 5. b -> 6. SV'\n",
    "                /\n",
    "                3. h(t)\n",
    "\n",
    "\n",
    "### Life 1, 2, 3\n",
    "- Sensory acuity: vision, hearing, smell, balance, glucose\n",
    "- Memory & cognitive: integrity, decline, tests\n",
    "- Physical activty: sarcopenia, brisk, dynamometer\n",
    "\n",
    "### Society 4\n",
    "- Frailty: loneliness, isolation, usefulness\n",
    "\n",
    "### Existential 5, 6\n",
    "- Independence: ADLs, IADL\n",
    "- Hard-outcomes: shuffling, reflexes, falls, hospitalization, organ-failure, death\n",
    "\n",
    "```{margin}\n",
    "- [aim 1](https://abikesa.github.io/aim1/)\n",
    "- [aim](https://abikesa.github.io/aim2/) [2](https://abikesa.github.io/magicbullet/)\n",
    "- [aim](https://abikesa.github.io/aim3/) [3](https://abikesa.github.io/generalize/)\n",
    "```\n",
    "\n",
    "\n",
    "<Details>\n",
    "   <Summary>Dynamic</Summary>\n",
    "      <p>That approach is innovative and forward-thinking, and I think it will resonate well with your committee. Emphasizing the iterative nature of your work aligns well with the dynamic nature of clinical research and technology development. By showing how quickly you can adapt and improve based on new data and feedback, you're not only demonstrating your technical skills but also your strategic vision for continuous improvement and collaboration. This could be a great model for future research projects and could indeed set a new standard for doctoral theses in your field. Have you considered including a section in your thesis discussing this iterative approach and how it can benefit future research and applications?\n",
    "      </p>\n",
    "</Details>"
   ]
  }
 ],
 "metadata": {
  "kernelspec": {
   "display_name": "Python 3",
   "language": "python",
   "name": "python3"
  },
  "language_info": {
   "codemirror_mode": {
    "name": "ipython",
    "version": 3
   },
   "file_extension": ".py",
   "mimetype": "text/x-python",
   "name": "python",
   "nbconvert_exporter": "python",
   "pygments_lexer": "ipython3",
   "version": "3.12.4"
  },
  "widgets": {
   "application/vnd.jupyter.widget-state+json": {
    "state": {},
    "version_major": 2,
    "version_minor": 0
   }
  }
 },
 "nbformat": 4,
 "nbformat_minor": 4
}