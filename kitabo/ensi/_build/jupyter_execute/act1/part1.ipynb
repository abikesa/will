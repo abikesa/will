{
 "cells": [
  {
   "cell_type": "markdown",
   "metadata": {},
   "source": [
    "# Gary Kasparov & Peter Thiel \n",
    "\n",
    "<iframe \n",
    "    src=\"https://www.youtube.com/embed/9rOvEPYNEsc?start=1260\"\n",
    "    style=\"width:80%;height:350px;\">\n",
    "</iframe>\n",
    "\n",
    "```{figure} ../figures/blanche.*\n",
    "---\n",
    "width: 1 \n",
    "height: 1 \n",
    "---\n",
    "_Chess vs. Music Memory_. The embedded video showcases Garry Kasparov demonstrating his exceptional ability to analyze and recall complex chess moves, providing a visual representation of high-level memory in chess. What comes to mind is that I simply don't have this capacity, but can reconstruct the rhythm, harmony, and melody of a song as impressively as he does this here. {cite}`Rios2015` {cite}`Thompson2009`\n",
    "```\n",
    "\n",
    "\n"
   ]
  }
 ],
 "metadata": {
  "kernelspec": {
   "display_name": "myenv",
   "language": "python",
   "name": "python3"
  },
  "language_info": {
   "codemirror_mode": {
    "name": "ipython",
    "version": 3
   },
   "file_extension": ".py",
   "mimetype": "text/x-python",
   "name": "python",
   "nbconvert_exporter": "python",
   "pygments_lexer": "ipython3",
   "version": "3.12.4"
  },
  "widgets": {
   "application/vnd.jupyter.widget-state+json": {
    "state": {},
    "version_major": 2,
    "version_minor": 0
   }
  }
 },
 "nbformat": 4,
 "nbformat_minor": 4
}