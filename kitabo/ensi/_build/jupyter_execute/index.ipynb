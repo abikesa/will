{
 "cells": [
  {
   "cell_type": "markdown",
   "metadata": {},
   "source": [
    "(manson)=\n",
    "# Adversarial 🗡️, Transactional \\$, Pastoral ❤️ (ATP) \n",
    "\n",
    "*Death reminds us that we must ignore lifes trivialities. That we must choose values that stretch beyond ourselves.  It's the timeless rule of happiness. And whether you're listening to Aristotle, Confucious, a Harvard Psychologist, Jesus Christ, or a f`*`ckin' Disney princess, they more or less say the same thing: happiness comes from caring for something bigger than yourself -- happiness is continual transformation from duty to self, neighbor, god ... This is the feeling that we go to church for (❤️), its what we fight in wars for (🗡️), its what we work for, save pensions, and build bridges for (\\$), create startups for. Death forces us to confront the question of legacy.*         \n",
    "-- Manson  \n",
    "\n",
    "<iframe src=\"https://www.youtube.com/embed/Y2M2Dgmm958?start=90\" style=\"width:80%;height:350px;\"></iframe>\n",
    "\n",
    "```{figure} figures/blanche.*\n",
    "---\n",
    "width: 1\n",
    "height: 1\n",
    "---\n",
    "_Mark Manson_. As of 2024, he has authored or co-authored \"The Subtle Art of Not Giving a F*ck\", \"Everything Is F*cked: A Book About Hope\", and \"Will\". In this uncomfortable truth he describes, it is evident that he touches on the \"compression\" of all human history: adversarial (🗡️), transactional (`$`), pastoral (`❤️`). Funny. Manson asks us to center everything we do around the certainty of death. Egyptians, Christians, and Muslims had a focus on the afterlife. Judaism, to all its credit, has little room for these neuroses & psychoses and focuses on the painful & joyous stuff before death: life\n",
    "```\n",
    "\n",
    "Mark Manson’s take on death is refreshingly blunt, stripping away the poetic veneer we often drape over the subject. His assertion that death sharpens our focus on life’s values hits the mark. Death doesn’t just whisper in the background; it screams for relevance, demanding that we discard the petty and the trivial. It’s both humbling and enraging, that the certainty of our end is what forces us to ask what truly matters. Whether it’s Aristotle musing on virtue, Confucius charting the way, or even a Disney princess crooning about her dreams, the same idea resonates: our finite existence compels us to aim for something beyond ourselves. \n",
    "\n",
    "But here’s the rub: legacy isn’t just about what we leave behind—it’s about what drives us while we’re here. Manson points out that this is why we gather in sacred spaces, wage wars, save for pensions, and throw ourselves into startups. These are not random acts; they’re attempts to carve out a slice of immortality, to anchor our brief lives in a narrative that persists beyond our final breath. Whether it’s love (❤️), war (🗡️), or wealth (\\$), the throughline is the same: we seek to impose meaning on the chaos, to wrest order from inevitability.\n",
    "\n",
    "It’s the unifying force behind disparate human endeavors: the churchgoer kneeling in the pew, the soldier charging into battle, the entrepreneur chasing the next big thing—they are all asking, in their own language, the same question. What will remain? Death corners us into this reckoning, forcing us to look past the noise of daily life and toward the horizon, where the weight of our choices will either dissipate or crystallize into something lasting. The real irony is that it’s death—the one thing we can’t conquer—that gives us the will to attempt everything else.\n",
    "\n"
   ]
  }
 ],
 "metadata": {
  "kernelspec": {
   "display_name": "myenv",
   "language": "python",
   "name": "python3"
  },
  "language_info": {
   "codemirror_mode": {
    "name": "ipython",
    "version": 3
   },
   "file_extension": ".py",
   "mimetype": "text/x-python",
   "name": "python",
   "nbconvert_exporter": "python",
   "pygments_lexer": "ipython3",
   "version": "3.12.4"
  },
  "widgets": {
   "application/vnd.jupyter.widget-state+json": {
    "state": {},
    "version_major": 2,
    "version_minor": 0
   }
  }
 },
 "nbformat": 4,
 "nbformat_minor": 4
}