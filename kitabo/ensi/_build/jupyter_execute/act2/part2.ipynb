{
 "cells": [
  {
   "cell_type": "markdown",
   "metadata": {},
   "source": [
    "(structure)=\n",
    "# Paradiso, Limbo, Inferno\n",
    "\n",
    "*Unlike Islam, Christianity has never been a static religion.*      \n",
    "-- Heretic\n",
    "\n",
    "\n",
    "```{figure} https://thepagenebula.wordpress.com/wp-content/uploads/2012/07/the-elemental-layers.jpg\n",
    "---\n",
    "width: 100%\n",
    "height: 100%\n",
    "---\n",
    "_[Hades, Poseidon, Zeus: Realms for the Oligarchy](https://www.webpages.uidaho.edu/ngier/gre13.htm)_. Christianity, a uniquely European construct born from the synthesis of Hellenic philosophy and Judaic tradition, emerged in the bustling streets of Rome—a city where wisdom cried out beyond the gates of emperors, senates, and popes. Its cosmology once embraced a three-tiered universe: heaven above, earth in the middle, and hell below. However, in our era of space exploration and deep-earth drilling, the literal framework of such a universe has become increasingly untenable, giving way to more abstract interpretations.  {cite}`alighieri1984inferno` {cite}`alighieri1984purgatorio` {Cite}`alighieri1984paradiso` \n",
    "```"
   ]
  }
 ],
 "metadata": {
  "kernelspec": {
   "display_name": "myenv",
   "language": "python",
   "name": "python3"
  },
  "language_info": {
   "codemirror_mode": {
    "name": "ipython",
    "version": 3
   },
   "file_extension": ".py",
   "mimetype": "text/x-python",
   "name": "python",
   "nbconvert_exporter": "python",
   "pygments_lexer": "ipython3",
   "version": "3.12.4"
  },
  "widgets": {
   "application/vnd.jupyter.widget-state+json": {
    "state": {},
    "version_major": 2,
    "version_minor": 0
   }
  }
 },
 "nbformat": 4,
 "nbformat_minor": 4
}