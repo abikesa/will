{
 "cells": [
  {
   "cell_type": "markdown",
   "metadata": {},
   "source": [
    "# Emotional\n",
    "\n",
    "```{figure} https://upload.wikimedia.org/wikipedia/commons/thumb/f/f6/Challenge_vs_skill.svg/600px-Challenge_vs_skill.svg.png\n",
    "---\n",
    "width: 100%\n",
    "height: 100%\n",
    "---\n",
    "_Colors Match our Neural Network Model_. Mental state in terms of challenge level and skill level, according to [Csikszentmihalyi's flow model](https://news.uchicago.edu/story/mihaly-csikszentmihalyi-pioneering-psychologist-and-father-flow-1934-2021). The low-skill of anxiety speaks to adversarial transformation, very dynamic in nature that one can only adapt to but never really be well trained for. By contrast, the high-skill of relaxation speaks to culturual homogeneity embodied in heritage, which most adults have mastered. Flow speaks to transactional tokenized settings, wherein rules are somewhat well established -- but there's dynamism that leaks in from adversarial settings.\n",
    "```\n",
    "\n"
   ]
  }
 ],
 "metadata": {
  "kernelspec": {
   "display_name": "myenv",
   "language": "python",
   "name": "python3"
  },
  "language_info": {
   "codemirror_mode": {
    "name": "ipython",
    "version": 3
   },
   "file_extension": ".py",
   "mimetype": "text/x-python",
   "name": "python",
   "nbconvert_exporter": "python",
   "pygments_lexer": "ipython3",
   "version": "3.12.4"
  },
  "widgets": {
   "application/vnd.jupyter.widget-state+json": {
    "state": {},
    "version_major": 2,
    "version_minor": 0
   }
  }
 },
 "nbformat": 4,
 "nbformat_minor": 4
}