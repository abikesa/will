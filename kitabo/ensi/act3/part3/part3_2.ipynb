{
 "cells": [
  {
   "cell_type": "markdown",
   "metadata": {},
   "source": [
    "# Georg Friedrich Händel\n",
    "\n",
    "*Handel is the greatest composer to have ever lived, to him I bow one knee.*     \n",
    "--Ludwig Van Beethoven\n",
    "\n",
    "\n",
    "<iframe src=\"https://www.youtube.com/embed/CHK8hJ22SPw\" style=\"width:50%;height:350px;\"></iframe>\n",
    "<iframe src=\"https://www.youtube.com/embed/iG5NoRo337I\" style=\"width:50%;height:350px;\"></iframe>\n",
    "\n",
    "Insofar as he used a minimum of notes to achieve a maximum of effect, no one can dount this claim. These two pieces from the same opus HWV 56 showcase his range and minimalism, from the cooperative equilibrium and psychological triumph in \"and the government shall be upon his shoulders\" to the most melancholic stuff ever written for church \"he was despiséd, rejected\"\n",
    " "
   ]
  }
 ],
 "metadata": {
  "kernelspec": {
   "display_name": "myenv",
   "language": "python",
   "name": "python3"
  },
  "language_info": {
   "codemirror_mode": {
    "name": "ipython",
    "version": 3
   },
   "file_extension": ".py",
   "mimetype": "text/x-python",
   "name": "python",
   "nbconvert_exporter": "python",
   "pygments_lexer": "ipython3",
   "version": "3.12.4"
  },
  "widgets": {
   "application/vnd.jupyter.widget-state+json": {
    "state": {},
    "version_major": 2,
    "version_minor": 0
   }
  }
 },
 "nbformat": 4,
 "nbformat_minor": 4
}
