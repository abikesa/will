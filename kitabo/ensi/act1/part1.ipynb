{
 "cells": [
  {
   "cell_type": "markdown",
   "metadata": {},
   "source": [
    "(alienation)=\n",
    "# Commodification of Humanity\n",
    "\n",
    "```{figure} ../figures/commodification.*\n",
    "---\n",
    "width: 100%\n",
    "height: 100%\n",
    "---\n",
    "_Alienation of Soul, Body & Mind_. Dave Chappelle’s battle with a network that sought to commodify his name and essence “in perpetuity throughout the universe” is a modern allegory of alienation. This is not merely a legal dispute over contractual terms; it is a clash over the soul of artistry, the interplay of identity, morality, and meaning. Chappelle’s insistence that the integrity of an artist—their soul, mind, and body—cannot be separated reflects a rejection of the capitalist reduction of human creativity into an alienated product. Through the lens of the PSALM³ framework, we can unravel the transformational venture that is \"Chappelle’s Show,\" dissecting its creation, exploitation, and eventual reclamation.\n",
    "```\n",
    "\n",
    "```{seealso}\n",
    "{ref}`dave-chappelle`\n",
    "```\n"
   ]
  }
 ],
 "metadata": {
  "kernelspec": {
   "display_name": "myenv",
   "language": "python",
   "name": "python3"
  },
  "language_info": {
   "codemirror_mode": {
    "name": "ipython",
    "version": 3
   },
   "file_extension": ".py",
   "mimetype": "text/x-python",
   "name": "python",
   "nbconvert_exporter": "python",
   "pygments_lexer": "ipython3",
   "version": "3.12.4"
  },
  "widgets": {
   "application/vnd.jupyter.widget-state+json": {
    "state": {},
    "version_major": 2,
    "version_minor": 0
   }
  }
 },
 "nbformat": 4,
 "nbformat_minor": 4
}
