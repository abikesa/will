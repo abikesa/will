{
 "cells": [
  {
   "cell_type": "markdown",
   "metadata": {},
   "source": [
    "(language)=\n",
    "# Dialogue, Language, Intelligence, Power, Control\n",
    "\n",
    "*Unlike Islam, Christianity has never been a static religion.*      \n",
    "-- Heretic\n",
    "\n",
    "<iframe\n",
    "    src=\"https://www.youtube.com/embed/KK9c2rtqrlQ?start=10700\"\n",
    "    style=\"width:100%;height:700px;\"\n",
    ">\n",
    "</iframe>\n",
    "\n",
    "```{figure} ../figures/blanche.*\n",
    "---\n",
    "width: 1\n",
    "height: 1\n",
    "---\n",
    "_[Three-Story Universe](https://www.webpages.uidaho.edu/ngier/gre13.htm)_. A three-tiered universe ... Today, in our age of space travel and deep drilling beneath the earth's surface, it has become difficult to maintain a literal conception of an actual heaven above and a hell below. {cite}`alighieri1984inferno` {cite}`alighieri1984purgatorio` {Cite}`alighieri1984paradiso` \n",
    "```"
   ]
  }
 ],
 "metadata": {
  "kernelspec": {
   "display_name": "myenv",
   "language": "python",
   "name": "python3"
  },
  "language_info": {
   "codemirror_mode": {
    "name": "ipython",
    "version": 3
   },
   "file_extension": ".py",
   "mimetype": "text/x-python",
   "name": "python",
   "nbconvert_exporter": "python",
   "pygments_lexer": "ipython3",
   "version": "3.12.4"
  },
  "widgets": {
   "application/vnd.jupyter.widget-state+json": {
    "state": {},
    "version_major": 2,
    "version_minor": 0
   }
  }
 },
 "nbformat": 4,
 "nbformat_minor": 4
}
